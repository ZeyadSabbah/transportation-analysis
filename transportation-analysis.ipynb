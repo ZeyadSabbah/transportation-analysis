{
 "cells": [
  {
   "cell_type": "markdown",
   "id": "employed-commons",
   "metadata": {},
   "source": [
    "# Libraries"
   ]
  },
  {
   "cell_type": "code",
   "execution_count": 1,
   "id": "unknown-lesson",
   "metadata": {},
   "outputs": [],
   "source": [
    "import pandas as pd\n",
    "import matplotlib.pyplot as plt\n",
    "import numpy as np\n",
    "from datetime import datetime\n",
    "from pandas.api.types import CategoricalDtype"
   ]
  },
  {
   "cell_type": "markdown",
   "id": "mysterious-kidney",
   "metadata": {},
   "source": [
    "# Data"
   ]
  },
  {
   "cell_type": "code",
   "execution_count": 2,
   "id": "useful-listing",
   "metadata": {},
   "outputs": [],
   "source": [
    "df = pd.read_excel('Case Study - Performance Analyst.xlsx')"
   ]
  },
  {
   "cell_type": "code",
   "execution_count": 3,
   "id": "interior-adult",
   "metadata": {},
   "outputs": [
    {
     "data": {
      "text/html": [
       "<div>\n",
       "<style scoped>\n",
       "    .dataframe tbody tr th:only-of-type {\n",
       "        vertical-align: middle;\n",
       "    }\n",
       "\n",
       "    .dataframe tbody tr th {\n",
       "        vertical-align: top;\n",
       "    }\n",
       "\n",
       "    .dataframe thead th {\n",
       "        text-align: right;\n",
       "    }\n",
       "</style>\n",
       "<table border=\"1\" class=\"dataframe\">\n",
       "  <thead>\n",
       "    <tr style=\"text-align: right;\">\n",
       "      <th></th>\n",
       "      <th>Date</th>\n",
       "      <th>Time</th>\n",
       "      <th>City</th>\n",
       "      <th>CategoryID</th>\n",
       "      <th>Ride Status</th>\n",
       "      <th>Ride</th>\n",
       "      <th>BusTypeID</th>\n",
       "      <th>Route</th>\n",
       "      <th>Distance</th>\n",
       "      <th>Captain</th>\n",
       "      <th>Income</th>\n",
       "      <th>Paid to Captain</th>\n",
       "      <th>Bookings</th>\n",
       "      <th>Capacity</th>\n",
       "      <th>Rated Bookings</th>\n",
       "      <th>Summation of Ratings</th>\n",
       "    </tr>\n",
       "  </thead>\n",
       "  <tbody>\n",
       "    <tr>\n",
       "      <th>0</th>\n",
       "      <td>2021-02-02</td>\n",
       "      <td>09:15:00</td>\n",
       "      <td>58d1560b2207c00001aabc9a</td>\n",
       "      <td>5f0b2962e8cce5001acf35b7</td>\n",
       "      <td>cancelled</td>\n",
       "      <td>60122a8d2a4d03001b97c75b</td>\n",
       "      <td>5952ece2cb93a600015aa7aa</td>\n",
       "      <td>597e2b4fa71e730010942009</td>\n",
       "      <td>36.275</td>\n",
       "      <td>5fd618746b09b6001def0429</td>\n",
       "      <td>164</td>\n",
       "      <td>67</td>\n",
       "      <td>1</td>\n",
       "      <td>13</td>\n",
       "      <td>0</td>\n",
       "      <td>0</td>\n",
       "    </tr>\n",
       "    <tr>\n",
       "      <th>1</th>\n",
       "      <td>2021-02-03</td>\n",
       "      <td>06:50:00</td>\n",
       "      <td>58d1560b2207c00001aabc9a</td>\n",
       "      <td>5f0b2962e8cce5001acf35b7</td>\n",
       "      <td>completed</td>\n",
       "      <td>6018c3c048c5b0001af0e559</td>\n",
       "      <td>5952ece2cb93a600015aa7aa</td>\n",
       "      <td>5c86a86984a318001946143e</td>\n",
       "      <td>69.227</td>\n",
       "      <td>5be954f8dcb6290018809545</td>\n",
       "      <td>47</td>\n",
       "      <td>143</td>\n",
       "      <td>5</td>\n",
       "      <td>14</td>\n",
       "      <td>5</td>\n",
       "      <td>5</td>\n",
       "    </tr>\n",
       "    <tr>\n",
       "      <th>2</th>\n",
       "      <td>2021-02-06</td>\n",
       "      <td>15:20:00</td>\n",
       "      <td>58d1560b2207c00001aabc9a</td>\n",
       "      <td>5f0b2962e8cce5001acf35b7</td>\n",
       "      <td>completed</td>\n",
       "      <td>601cb84aaf69a8001dc05439</td>\n",
       "      <td>5952ece2cb93a600015aa7aa</td>\n",
       "      <td>5c5843ec27f2c0001851e774</td>\n",
       "      <td>68.081</td>\n",
       "      <td>5d1b4d6c0703ca0018666c88</td>\n",
       "      <td>61</td>\n",
       "      <td>111</td>\n",
       "      <td>7</td>\n",
       "      <td>14</td>\n",
       "      <td>6</td>\n",
       "      <td>18</td>\n",
       "    </tr>\n",
       "    <tr>\n",
       "      <th>3</th>\n",
       "      <td>2021-02-06</td>\n",
       "      <td>10:00:00</td>\n",
       "      <td>58d1560b2207c00001aabc9a</td>\n",
       "      <td>5f0b2962e8cce5001acf35b7</td>\n",
       "      <td>cancelled</td>\n",
       "      <td>601770a948c5b0001aed7d91</td>\n",
       "      <td>5ffdecf3f0d94b001dcf80f1</td>\n",
       "      <td>5b5e4677a8ebb1001096479f</td>\n",
       "      <td>61.283</td>\n",
       "      <td>NaN</td>\n",
       "      <td>112</td>\n",
       "      <td>82</td>\n",
       "      <td>0</td>\n",
       "      <td>3</td>\n",
       "      <td>0</td>\n",
       "      <td>0</td>\n",
       "    </tr>\n",
       "    <tr>\n",
       "      <th>4</th>\n",
       "      <td>2021-02-01</td>\n",
       "      <td>11:05:00</td>\n",
       "      <td>58d1560b2207c00001aabc9a</td>\n",
       "      <td>5f0b2962e8cce5001acf35b7</td>\n",
       "      <td>cancelled</td>\n",
       "      <td>6010d9362a4d03001b95e858</td>\n",
       "      <td>5952ece2cb93a600015aa7aa</td>\n",
       "      <td>600a085402b7bd001dc76e96</td>\n",
       "      <td>29.918</td>\n",
       "      <td>5db468ccda99bf001afa5618</td>\n",
       "      <td>67</td>\n",
       "      <td>126</td>\n",
       "      <td>1</td>\n",
       "      <td>13</td>\n",
       "      <td>0</td>\n",
       "      <td>0</td>\n",
       "    </tr>\n",
       "  </tbody>\n",
       "</table>\n",
       "</div>"
      ],
      "text/plain": [
       "        Date      Time                      City                CategoryID  \\\n",
       "0 2021-02-02  09:15:00  58d1560b2207c00001aabc9a  5f0b2962e8cce5001acf35b7   \n",
       "1 2021-02-03  06:50:00  58d1560b2207c00001aabc9a  5f0b2962e8cce5001acf35b7   \n",
       "2 2021-02-06  15:20:00  58d1560b2207c00001aabc9a  5f0b2962e8cce5001acf35b7   \n",
       "3 2021-02-06  10:00:00  58d1560b2207c00001aabc9a  5f0b2962e8cce5001acf35b7   \n",
       "4 2021-02-01  11:05:00  58d1560b2207c00001aabc9a  5f0b2962e8cce5001acf35b7   \n",
       "\n",
       "  Ride Status                      Ride                 BusTypeID  \\\n",
       "0   cancelled  60122a8d2a4d03001b97c75b  5952ece2cb93a600015aa7aa   \n",
       "1   completed  6018c3c048c5b0001af0e559  5952ece2cb93a600015aa7aa   \n",
       "2   completed  601cb84aaf69a8001dc05439  5952ece2cb93a600015aa7aa   \n",
       "3   cancelled  601770a948c5b0001aed7d91  5ffdecf3f0d94b001dcf80f1   \n",
       "4   cancelled  6010d9362a4d03001b95e858  5952ece2cb93a600015aa7aa   \n",
       "\n",
       "                      Route  Distance                   Captain  Income  \\\n",
       "0  597e2b4fa71e730010942009    36.275  5fd618746b09b6001def0429     164   \n",
       "1  5c86a86984a318001946143e    69.227  5be954f8dcb6290018809545      47   \n",
       "2  5c5843ec27f2c0001851e774    68.081  5d1b4d6c0703ca0018666c88      61   \n",
       "3  5b5e4677a8ebb1001096479f    61.283                       NaN     112   \n",
       "4  600a085402b7bd001dc76e96    29.918  5db468ccda99bf001afa5618      67   \n",
       "\n",
       "   Paid to Captain  Bookings  Capacity  Rated Bookings  Summation of Ratings  \n",
       "0               67         1        13               0                     0  \n",
       "1              143         5        14               5                     5  \n",
       "2              111         7        14               6                    18  \n",
       "3               82         0         3               0                     0  \n",
       "4              126         1        13               0                     0  "
      ]
     },
     "execution_count": 3,
     "metadata": {},
     "output_type": "execute_result"
    }
   ],
   "source": [
    "df.head()"
   ]
  },
  {
   "cell_type": "markdown",
   "id": "digital-label",
   "metadata": {},
   "source": [
    "# Exploration"
   ]
  },
  {
   "cell_type": "code",
   "execution_count": 4,
   "id": "improving-nicaragua",
   "metadata": {},
   "outputs": [
    {
     "name": "stdout",
     "output_type": "stream",
     "text": [
      "<class 'pandas.core.frame.DataFrame'>\n",
      "RangeIndex: 30000 entries, 0 to 29999\n",
      "Data columns (total 16 columns):\n",
      " #   Column                Non-Null Count  Dtype         \n",
      "---  ------                --------------  -----         \n",
      " 0   Date                  30000 non-null  datetime64[ns]\n",
      " 1   Time                  30000 non-null  object        \n",
      " 2   City                  30000 non-null  object        \n",
      " 3   CategoryID            30000 non-null  object        \n",
      " 4   Ride Status           30000 non-null  object        \n",
      " 5   Ride                  30000 non-null  object        \n",
      " 6   BusTypeID             30000 non-null  object        \n",
      " 7   Route                 30000 non-null  object        \n",
      " 8   Distance              30000 non-null  float64       \n",
      " 9   Captain               28221 non-null  object        \n",
      " 10  Income                30000 non-null  int64         \n",
      " 11  Paid to Captain       30000 non-null  int64         \n",
      " 12  Bookings              30000 non-null  int64         \n",
      " 13  Capacity              30000 non-null  int64         \n",
      " 14  Rated Bookings        30000 non-null  int64         \n",
      " 15  Summation of Ratings  30000 non-null  int64         \n",
      "dtypes: datetime64[ns](1), float64(1), int64(6), object(8)\n",
      "memory usage: 3.7+ MB\n"
     ]
    }
   ],
   "source": [
    "df.info()"
   ]
  },
  {
   "cell_type": "markdown",
   "id": "embedded-funeral",
   "metadata": {},
   "source": [
    "Column captain is the only attribute with NaN values."
   ]
  },
  {
   "cell_type": "code",
   "execution_count": 5,
   "id": "respiratory-davis",
   "metadata": {},
   "outputs": [
    {
     "data": {
      "text/html": [
       "<div>\n",
       "<style scoped>\n",
       "    .dataframe tbody tr th:only-of-type {\n",
       "        vertical-align: middle;\n",
       "    }\n",
       "\n",
       "    .dataframe tbody tr th {\n",
       "        vertical-align: top;\n",
       "    }\n",
       "\n",
       "    .dataframe thead th {\n",
       "        text-align: right;\n",
       "    }\n",
       "</style>\n",
       "<table border=\"1\" class=\"dataframe\">\n",
       "  <thead>\n",
       "    <tr style=\"text-align: right;\">\n",
       "      <th></th>\n",
       "      <th>Distance</th>\n",
       "      <th>Income</th>\n",
       "      <th>Paid to Captain</th>\n",
       "      <th>Bookings</th>\n",
       "      <th>Capacity</th>\n",
       "      <th>Rated Bookings</th>\n",
       "      <th>Summation of Ratings</th>\n",
       "    </tr>\n",
       "  </thead>\n",
       "  <tbody>\n",
       "    <tr>\n",
       "      <th>count</th>\n",
       "      <td>30000.000000</td>\n",
       "      <td>30000.000000</td>\n",
       "      <td>30000.000000</td>\n",
       "      <td>30000.000000</td>\n",
       "      <td>30000.000000</td>\n",
       "      <td>30000.000000</td>\n",
       "      <td>30000.000000</td>\n",
       "    </tr>\n",
       "    <tr>\n",
       "      <th>mean</th>\n",
       "      <td>74.843488</td>\n",
       "      <td>123.844033</td>\n",
       "      <td>99.989367</td>\n",
       "      <td>4.419967</td>\n",
       "      <td>12.488700</td>\n",
       "      <td>2.211267</td>\n",
       "      <td>6.644200</td>\n",
       "    </tr>\n",
       "    <tr>\n",
       "      <th>std</th>\n",
       "      <td>844.064693</td>\n",
       "      <td>72.328326</td>\n",
       "      <td>57.545905</td>\n",
       "      <td>3.907178</td>\n",
       "      <td>7.990056</td>\n",
       "      <td>2.618395</td>\n",
       "      <td>9.232514</td>\n",
       "    </tr>\n",
       "    <tr>\n",
       "      <th>min</th>\n",
       "      <td>0.000000</td>\n",
       "      <td>0.000000</td>\n",
       "      <td>0.000000</td>\n",
       "      <td>0.000000</td>\n",
       "      <td>3.000000</td>\n",
       "      <td>0.000000</td>\n",
       "      <td>0.000000</td>\n",
       "    </tr>\n",
       "    <tr>\n",
       "      <th>25%</th>\n",
       "      <td>32.492000</td>\n",
       "      <td>61.000000</td>\n",
       "      <td>51.000000</td>\n",
       "      <td>1.000000</td>\n",
       "      <td>3.000000</td>\n",
       "      <td>0.000000</td>\n",
       "      <td>0.000000</td>\n",
       "    </tr>\n",
       "    <tr>\n",
       "      <th>50%</th>\n",
       "      <td>43.932000</td>\n",
       "      <td>124.000000</td>\n",
       "      <td>100.000000</td>\n",
       "      <td>3.000000</td>\n",
       "      <td>13.000000</td>\n",
       "      <td>1.000000</td>\n",
       "      <td>4.000000</td>\n",
       "    </tr>\n",
       "    <tr>\n",
       "      <th>75%</th>\n",
       "      <td>61.200000</td>\n",
       "      <td>186.000000</td>\n",
       "      <td>150.000000</td>\n",
       "      <td>8.000000</td>\n",
       "      <td>14.000000</td>\n",
       "      <td>3.000000</td>\n",
       "      <td>9.000000</td>\n",
       "    </tr>\n",
       "    <tr>\n",
       "      <th>max</th>\n",
       "      <td>58479.241000</td>\n",
       "      <td>250.000000</td>\n",
       "      <td>200.000000</td>\n",
       "      <td>13.000000</td>\n",
       "      <td>49.000000</td>\n",
       "      <td>13.000000</td>\n",
       "      <td>65.000000</td>\n",
       "    </tr>\n",
       "  </tbody>\n",
       "</table>\n",
       "</div>"
      ],
      "text/plain": [
       "           Distance        Income  Paid to Captain      Bookings  \\\n",
       "count  30000.000000  30000.000000     30000.000000  30000.000000   \n",
       "mean      74.843488    123.844033        99.989367      4.419967   \n",
       "std      844.064693     72.328326        57.545905      3.907178   \n",
       "min        0.000000      0.000000         0.000000      0.000000   \n",
       "25%       32.492000     61.000000        51.000000      1.000000   \n",
       "50%       43.932000    124.000000       100.000000      3.000000   \n",
       "75%       61.200000    186.000000       150.000000      8.000000   \n",
       "max    58479.241000    250.000000       200.000000     13.000000   \n",
       "\n",
       "           Capacity  Rated Bookings  Summation of Ratings  \n",
       "count  30000.000000    30000.000000          30000.000000  \n",
       "mean      12.488700        2.211267              6.644200  \n",
       "std        7.990056        2.618395              9.232514  \n",
       "min        3.000000        0.000000              0.000000  \n",
       "25%        3.000000        0.000000              0.000000  \n",
       "50%       13.000000        1.000000              4.000000  \n",
       "75%       14.000000        3.000000              9.000000  \n",
       "max       49.000000       13.000000             65.000000  "
      ]
     },
     "execution_count": 5,
     "metadata": {},
     "output_type": "execute_result"
    }
   ],
   "source": [
    "df.describe()"
   ]
  },
  {
   "cell_type": "markdown",
   "id": "interior-biology",
   "metadata": {},
   "source": [
    "# Q & A"
   ]
  },
  {
   "cell_type": "markdown",
   "id": "trying-creator",
   "metadata": {},
   "source": [
    "## How many captains got paid more than the average payout?"
   ]
  },
  {
   "cell_type": "code",
   "execution_count": 6,
   "id": "hybrid-smoke",
   "metadata": {},
   "outputs": [
    {
     "data": {
      "text/plain": [
       "1872"
      ]
     },
     "execution_count": 6,
     "metadata": {},
     "output_type": "execute_result"
    }
   ],
   "source": [
    "avg_payout = df['Paid to Captain'].mean()\n",
    "df[df['Paid to Captain'] > avg_payout]['Captain'].nunique()"
   ]
  },
  {
   "cell_type": "markdown",
   "id": "color-details",
   "metadata": {},
   "source": [
    "## How would you name these \"Categors\" sot that it would show up in the query results?"
   ]
  },
  {
   "cell_type": "code",
   "execution_count": 7,
   "id": "aquatic-member",
   "metadata": {},
   "outputs": [
    {
     "data": {
      "text/plain": [
       "CategoryID\n",
       "5f0b2962e8cce5001acf35b9    309.351243\n",
       "5f4698a2d2afb2000d931b96     67.046000\n",
       "5f0b2962e8cce5001acf35b7     64.272823\n",
       "5f4698a2d2afb2000d931b92     45.244054\n",
       "Name: Distance, dtype: float64"
      ]
     },
     "execution_count": 7,
     "metadata": {},
     "output_type": "execute_result"
    }
   ],
   "source": [
    "df.groupby('CategoryID', sort=False)['Distance'].mean().sort_values(ascending=False)"
   ]
  },
  {
   "cell_type": "code",
   "execution_count": 8,
   "id": "superb-knowing",
   "metadata": {},
   "outputs": [
    {
     "data": {
      "text/plain": [
       "Index(['5f0b2962e8cce5001acf35b9', '5f4698a2d2afb2000d931b96',\n",
       "       '5f0b2962e8cce5001acf35b7', '5f4698a2d2afb2000d931b92'],\n",
       "      dtype='object', name='CategoryID')"
      ]
     },
     "execution_count": 8,
     "metadata": {},
     "output_type": "execute_result"
    }
   ],
   "source": [
    "CategoryIDs = df.groupby('CategoryID', sort=False)['Distance'].mean().sort_values(ascending=False).index\n",
    "CategoryIDs"
   ]
  },
  {
   "cell_type": "markdown",
   "id": "trained-speech",
   "metadata": {},
   "source": [
    "Since there are 4 category ids, I would replace them with A, B, C, and D, so that it's easier for analysis."
   ]
  },
  {
   "cell_type": "code",
   "execution_count": 9,
   "id": "useful-warehouse",
   "metadata": {},
   "outputs": [
    {
     "data": {
      "text/plain": [
       "16711    D\n",
       "22647    C\n",
       "9934     C\n",
       "8343     C\n",
       "19905    C\n",
       "18953    A\n",
       "14303    A\n",
       "7230     D\n",
       "14867    C\n",
       "2542     C\n",
       "Name: Category, dtype: object"
      ]
     },
     "execution_count": 9,
     "metadata": {},
     "output_type": "execute_result"
    }
   ],
   "source": [
    "df['Category'] = df['CategoryID'].replace(CategoryIDs, ['A', 'B', 'C', 'D'])\n",
    "df['Category'].sample(10)"
   ]
  },
  {
   "cell_type": "markdown",
   "id": "gross-physics",
   "metadata": {},
   "source": [
    "## What do you notice that does not make sense in the data?"
   ]
  },
  {
   "cell_type": "markdown",
   "id": "round-interval",
   "metadata": {},
   "source": [
    "### Distance, Income, and Paid to Captain"
   ]
  },
  {
   "cell_type": "code",
   "execution_count": 10,
   "id": "technical-vinyl",
   "metadata": {},
   "outputs": [
    {
     "data": {
      "text/html": [
       "<div>\n",
       "<style scoped>\n",
       "    .dataframe tbody tr th:only-of-type {\n",
       "        vertical-align: middle;\n",
       "    }\n",
       "\n",
       "    .dataframe tbody tr th {\n",
       "        vertical-align: top;\n",
       "    }\n",
       "\n",
       "    .dataframe thead th {\n",
       "        text-align: right;\n",
       "    }\n",
       "</style>\n",
       "<table border=\"1\" class=\"dataframe\">\n",
       "  <thead>\n",
       "    <tr style=\"text-align: right;\">\n",
       "      <th></th>\n",
       "      <th>Distance</th>\n",
       "      <th>Income</th>\n",
       "    </tr>\n",
       "  </thead>\n",
       "  <tbody>\n",
       "    <tr>\n",
       "      <th>Distance</th>\n",
       "      <td>1.000000</td>\n",
       "      <td>-0.000763</td>\n",
       "    </tr>\n",
       "    <tr>\n",
       "      <th>Income</th>\n",
       "      <td>-0.000763</td>\n",
       "      <td>1.000000</td>\n",
       "    </tr>\n",
       "  </tbody>\n",
       "</table>\n",
       "</div>"
      ],
      "text/plain": [
       "          Distance    Income\n",
       "Distance  1.000000 -0.000763\n",
       "Income   -0.000763  1.000000"
      ]
     },
     "execution_count": 10,
     "metadata": {},
     "output_type": "execute_result"
    }
   ],
   "source": [
    "df[['Distance', 'Income']].corr()"
   ]
  },
  {
   "cell_type": "code",
   "execution_count": 11,
   "id": "parliamentary-constraint",
   "metadata": {},
   "outputs": [
    {
     "data": {
      "text/html": [
       "<div>\n",
       "<style scoped>\n",
       "    .dataframe tbody tr th:only-of-type {\n",
       "        vertical-align: middle;\n",
       "    }\n",
       "\n",
       "    .dataframe tbody tr th {\n",
       "        vertical-align: top;\n",
       "    }\n",
       "\n",
       "    .dataframe thead th {\n",
       "        text-align: right;\n",
       "    }\n",
       "</style>\n",
       "<table border=\"1\" class=\"dataframe\">\n",
       "  <thead>\n",
       "    <tr style=\"text-align: right;\">\n",
       "      <th></th>\n",
       "      <th>Distance</th>\n",
       "      <th>Paid to Captain</th>\n",
       "    </tr>\n",
       "  </thead>\n",
       "  <tbody>\n",
       "    <tr>\n",
       "      <th>Distance</th>\n",
       "      <td>1.000000</td>\n",
       "      <td>-0.005197</td>\n",
       "    </tr>\n",
       "    <tr>\n",
       "      <th>Paid to Captain</th>\n",
       "      <td>-0.005197</td>\n",
       "      <td>1.000000</td>\n",
       "    </tr>\n",
       "  </tbody>\n",
       "</table>\n",
       "</div>"
      ],
      "text/plain": [
       "                 Distance  Paid to Captain\n",
       "Distance         1.000000        -0.005197\n",
       "Paid to Captain -0.005197         1.000000"
      ]
     },
     "execution_count": 11,
     "metadata": {},
     "output_type": "execute_result"
    }
   ],
   "source": [
    "df[['Distance', 'Paid to Captain']].corr()"
   ]
  },
  {
   "cell_type": "markdown",
   "id": "rising-handle",
   "metadata": {},
   "source": [
    "There is no correlation between Distance attribute and the other two attributes; Income and Paid to Captain."
   ]
  },
  {
   "cell_type": "markdown",
   "id": "emotional-immune",
   "metadata": {},
   "source": [
    "### Income sometimes less than Paid to Captain"
   ]
  },
  {
   "cell_type": "code",
   "execution_count": 12,
   "id": "proof-walter",
   "metadata": {},
   "outputs": [
    {
     "data": {
      "text/html": [
       "<div>\n",
       "<style scoped>\n",
       "    .dataframe tbody tr th:only-of-type {\n",
       "        vertical-align: middle;\n",
       "    }\n",
       "\n",
       "    .dataframe tbody tr th {\n",
       "        vertical-align: top;\n",
       "    }\n",
       "\n",
       "    .dataframe thead th {\n",
       "        text-align: right;\n",
       "    }\n",
       "</style>\n",
       "<table border=\"1\" class=\"dataframe\">\n",
       "  <thead>\n",
       "    <tr style=\"text-align: right;\">\n",
       "      <th></th>\n",
       "      <th>Date</th>\n",
       "      <th>Time</th>\n",
       "      <th>City</th>\n",
       "      <th>CategoryID</th>\n",
       "      <th>Ride Status</th>\n",
       "      <th>Ride</th>\n",
       "      <th>BusTypeID</th>\n",
       "      <th>Route</th>\n",
       "      <th>Distance</th>\n",
       "      <th>Captain</th>\n",
       "      <th>Income</th>\n",
       "      <th>Paid to Captain</th>\n",
       "      <th>Bookings</th>\n",
       "      <th>Capacity</th>\n",
       "      <th>Rated Bookings</th>\n",
       "      <th>Summation of Ratings</th>\n",
       "      <th>Category</th>\n",
       "    </tr>\n",
       "  </thead>\n",
       "  <tbody>\n",
       "    <tr>\n",
       "      <th>1</th>\n",
       "      <td>2021-02-03</td>\n",
       "      <td>06:50:00</td>\n",
       "      <td>58d1560b2207c00001aabc9a</td>\n",
       "      <td>5f0b2962e8cce5001acf35b7</td>\n",
       "      <td>completed</td>\n",
       "      <td>6018c3c048c5b0001af0e559</td>\n",
       "      <td>5952ece2cb93a600015aa7aa</td>\n",
       "      <td>5c86a86984a318001946143e</td>\n",
       "      <td>69.227</td>\n",
       "      <td>5be954f8dcb6290018809545</td>\n",
       "      <td>47</td>\n",
       "      <td>143</td>\n",
       "      <td>5</td>\n",
       "      <td>14</td>\n",
       "      <td>5</td>\n",
       "      <td>5</td>\n",
       "      <td>C</td>\n",
       "    </tr>\n",
       "    <tr>\n",
       "      <th>2</th>\n",
       "      <td>2021-02-06</td>\n",
       "      <td>15:20:00</td>\n",
       "      <td>58d1560b2207c00001aabc9a</td>\n",
       "      <td>5f0b2962e8cce5001acf35b7</td>\n",
       "      <td>completed</td>\n",
       "      <td>601cb84aaf69a8001dc05439</td>\n",
       "      <td>5952ece2cb93a600015aa7aa</td>\n",
       "      <td>5c5843ec27f2c0001851e774</td>\n",
       "      <td>68.081</td>\n",
       "      <td>5d1b4d6c0703ca0018666c88</td>\n",
       "      <td>61</td>\n",
       "      <td>111</td>\n",
       "      <td>7</td>\n",
       "      <td>14</td>\n",
       "      <td>6</td>\n",
       "      <td>18</td>\n",
       "      <td>C</td>\n",
       "    </tr>\n",
       "    <tr>\n",
       "      <th>4</th>\n",
       "      <td>2021-02-01</td>\n",
       "      <td>11:05:00</td>\n",
       "      <td>58d1560b2207c00001aabc9a</td>\n",
       "      <td>5f0b2962e8cce5001acf35b7</td>\n",
       "      <td>cancelled</td>\n",
       "      <td>6010d9362a4d03001b95e858</td>\n",
       "      <td>5952ece2cb93a600015aa7aa</td>\n",
       "      <td>600a085402b7bd001dc76e96</td>\n",
       "      <td>29.918</td>\n",
       "      <td>5db468ccda99bf001afa5618</td>\n",
       "      <td>67</td>\n",
       "      <td>126</td>\n",
       "      <td>1</td>\n",
       "      <td>13</td>\n",
       "      <td>0</td>\n",
       "      <td>0</td>\n",
       "      <td>C</td>\n",
       "    </tr>\n",
       "    <tr>\n",
       "      <th>5</th>\n",
       "      <td>2021-02-04</td>\n",
       "      <td>07:30:00</td>\n",
       "      <td>58d1560b2207c00001aabc9a</td>\n",
       "      <td>5f0b2962e8cce5001acf35b9</td>\n",
       "      <td>completed</td>\n",
       "      <td>60122b6e89d5fd001badf7e7</td>\n",
       "      <td>5d3d860f41213c001a51b8cf</td>\n",
       "      <td>5d7507c538fc72001a870618</td>\n",
       "      <td>246.968</td>\n",
       "      <td>5c45d5fe9fb2070018610968</td>\n",
       "      <td>56</td>\n",
       "      <td>98</td>\n",
       "      <td>6</td>\n",
       "      <td>11</td>\n",
       "      <td>1</td>\n",
       "      <td>3</td>\n",
       "      <td>A</td>\n",
       "    </tr>\n",
       "    <tr>\n",
       "      <th>7</th>\n",
       "      <td>2021-02-03</td>\n",
       "      <td>07:10:00</td>\n",
       "      <td>58d1560b2207c00001aabc9a</td>\n",
       "      <td>5f0b2962e8cce5001acf35b7</td>\n",
       "      <td>completed</td>\n",
       "      <td>60137befbe78ff001b702389</td>\n",
       "      <td>5952ece2cb93a600015aa7aa</td>\n",
       "      <td>5a31217dddc302000f5c1554</td>\n",
       "      <td>34.591</td>\n",
       "      <td>5b93a59521badf00104247cc</td>\n",
       "      <td>182</td>\n",
       "      <td>198</td>\n",
       "      <td>13</td>\n",
       "      <td>13</td>\n",
       "      <td>9</td>\n",
       "      <td>45</td>\n",
       "      <td>C</td>\n",
       "    </tr>\n",
       "  </tbody>\n",
       "</table>\n",
       "</div>"
      ],
      "text/plain": [
       "        Date      Time                      City                CategoryID  \\\n",
       "1 2021-02-03  06:50:00  58d1560b2207c00001aabc9a  5f0b2962e8cce5001acf35b7   \n",
       "2 2021-02-06  15:20:00  58d1560b2207c00001aabc9a  5f0b2962e8cce5001acf35b7   \n",
       "4 2021-02-01  11:05:00  58d1560b2207c00001aabc9a  5f0b2962e8cce5001acf35b7   \n",
       "5 2021-02-04  07:30:00  58d1560b2207c00001aabc9a  5f0b2962e8cce5001acf35b9   \n",
       "7 2021-02-03  07:10:00  58d1560b2207c00001aabc9a  5f0b2962e8cce5001acf35b7   \n",
       "\n",
       "  Ride Status                      Ride                 BusTypeID  \\\n",
       "1   completed  6018c3c048c5b0001af0e559  5952ece2cb93a600015aa7aa   \n",
       "2   completed  601cb84aaf69a8001dc05439  5952ece2cb93a600015aa7aa   \n",
       "4   cancelled  6010d9362a4d03001b95e858  5952ece2cb93a600015aa7aa   \n",
       "5   completed  60122b6e89d5fd001badf7e7  5d3d860f41213c001a51b8cf   \n",
       "7   completed  60137befbe78ff001b702389  5952ece2cb93a600015aa7aa   \n",
       "\n",
       "                      Route  Distance                   Captain  Income  \\\n",
       "1  5c86a86984a318001946143e    69.227  5be954f8dcb6290018809545      47   \n",
       "2  5c5843ec27f2c0001851e774    68.081  5d1b4d6c0703ca0018666c88      61   \n",
       "4  600a085402b7bd001dc76e96    29.918  5db468ccda99bf001afa5618      67   \n",
       "5  5d7507c538fc72001a870618   246.968  5c45d5fe9fb2070018610968      56   \n",
       "7  5a31217dddc302000f5c1554    34.591  5b93a59521badf00104247cc     182   \n",
       "\n",
       "   Paid to Captain  Bookings  Capacity  Rated Bookings  Summation of Ratings  \\\n",
       "1              143         5        14               5                     5   \n",
       "2              111         7        14               6                    18   \n",
       "4              126         1        13               0                     0   \n",
       "5               98         6        11               1                     3   \n",
       "7              198        13        13               9                    45   \n",
       "\n",
       "  Category  \n",
       "1        C  \n",
       "2        C  \n",
       "4        C  \n",
       "5        A  \n",
       "7        C  "
      ]
     },
     "execution_count": 12,
     "metadata": {},
     "output_type": "execute_result"
    }
   ],
   "source": [
    "df[df['Income'] < df['Paid to Captain']].head()"
   ]
  },
  {
   "cell_type": "markdown",
   "id": "copyrighted-liabilities",
   "metadata": {},
   "source": [
    "### Summation of Ratings\n",
    "It is not useful by itself, an average rating would be more informative."
   ]
  },
  {
   "cell_type": "code",
   "execution_count": 13,
   "id": "compact-updating",
   "metadata": {},
   "outputs": [
    {
     "data": {
      "text/plain": [
       "0    NaN\n",
       "1    1.0\n",
       "2    3.0\n",
       "3    NaN\n",
       "4    NaN\n",
       "Name: Average Rating, dtype: float64"
      ]
     },
     "execution_count": 13,
     "metadata": {},
     "output_type": "execute_result"
    }
   ],
   "source": [
    "df['Average Rating'] = df['Summation of Ratings']/df['Rated Bookings']\n",
    "df['Average Rating'].head()"
   ]
  },
  {
   "cell_type": "markdown",
   "id": "marked-python",
   "metadata": {},
   "source": [
    "## How many cancelled rides do we have daily?"
   ]
  },
  {
   "cell_type": "code",
   "execution_count": 14,
   "id": "engaged-permission",
   "metadata": {},
   "outputs": [
    {
     "data": {
      "text/plain": [
       "Date\n",
       "2021-01-31    1387\n",
       "2021-02-01    1691\n",
       "2021-02-02    1062\n",
       "2021-02-03     825\n",
       "2021-02-04     885\n",
       "2021-02-05     259\n",
       "2021-02-06     637\n",
       "Name: Ride Status, dtype: int64"
      ]
     },
     "execution_count": 14,
     "metadata": {},
     "output_type": "execute_result"
    }
   ],
   "source": [
    "df[df['Ride Status']=='cancelled'].groupby('Date')['Ride Status'].count()"
   ]
  },
  {
   "cell_type": "code",
   "execution_count": 15,
   "id": "smart-printing",
   "metadata": {},
   "outputs": [
    {
     "data": {
      "text/plain": [
       "Date\n",
       "2021-01-31    0.256140\n",
       "2021-02-01    0.280060\n",
       "2021-02-02    0.195508\n",
       "2021-02-03    0.156814\n",
       "2021-02-04    0.177213\n",
       "2021-02-05    0.329098\n",
       "2021-02-06    0.307284\n",
       "Name: Ride Status, dtype: float64"
      ]
     },
     "execution_count": 15,
     "metadata": {},
     "output_type": "execute_result"
    }
   ],
   "source": [
    "# percentage (extra mile)\n",
    "df[df['Ride Status']=='cancelled'].groupby('Date')['Ride Status'].count()/df.groupby('Date')['Ride Status'].count()"
   ]
  },
  {
   "cell_type": "markdown",
   "id": "democratic-contractor",
   "metadata": {},
   "source": [
    "## How would you work on improving the completion %?"
   ]
  },
  {
   "cell_type": "markdown",
   "id": "political-imagination",
   "metadata": {},
   "source": [
    "I would go investigating deeper on the higher percentage of cancellation, and see the reason behind that."
   ]
  },
  {
   "cell_type": "markdown",
   "id": "polished-clerk",
   "metadata": {},
   "source": [
    "### Proportions"
   ]
  },
  {
   "cell_type": "code",
   "execution_count": 16,
   "id": "reduced-optimization",
   "metadata": {},
   "outputs": [
    {
     "data": {
      "text/plain": [
       "C    0.557343\n",
       "A    0.241259\n",
       "D    0.201399\n",
       "Name: Category, dtype: float64"
      ]
     },
     "execution_count": 16,
     "metadata": {},
     "output_type": "execute_result"
    }
   ],
   "source": [
    "df[(df['Date']=='2021-02-05') | (df['Date']=='2021-02-06')].Category.value_counts()\\\n",
    "/len(df[(df['Date']=='2021-02-05') | (df['Date']=='2021-02-06')])"
   ]
  },
  {
   "cell_type": "code",
   "execution_count": 17,
   "id": "cutting-lawyer",
   "metadata": {},
   "outputs": [
    {
     "data": {
      "text/plain": [
       "C    0.654200\n",
       "D    0.280800\n",
       "A    0.064933\n",
       "B    0.000067\n",
       "Name: Category, dtype: float64"
      ]
     },
     "execution_count": 17,
     "metadata": {},
     "output_type": "execute_result"
    }
   ],
   "source": [
    "df[(df['Date']!='2021-02-05') | (df['Date']!='2021-02-06')].Category.value_counts()\\\n",
    "/len(df[(df['Date']!='2021-02-05') | (df['Date']!='2021-02-06')])"
   ]
  },
  {
   "cell_type": "markdown",
   "id": "unusual-valve",
   "metadata": {},
   "source": [
    "There are some difference in the categories' proportions. Category A has a lower percentage, and that might be a reason why for cancellation in the last two days."
   ]
  },
  {
   "cell_type": "markdown",
   "id": "fifteen-summer",
   "metadata": {},
   "source": [
    "### Day of Week"
   ]
  },
  {
   "cell_type": "code",
   "execution_count": 18,
   "id": "better-object",
   "metadata": {},
   "outputs": [],
   "source": [
    "df['Day of Week'] = df['Date'].apply(lambda x: x.dayofweek)\n",
    "week_name = ['Monday', 'Tuesday', 'Wednesday', 'Thursday', 'Friday', 'Saturday', 'Sunday']\n",
    "week_numbers = np.arange(0, 7)\n",
    "df['Day of Week'] = df['Day of Week'].replace(week_numbers, week_name)\n",
    "cat_type = CategoricalDtype(categories=week_name, ordered=True)\n",
    "df['Day of Week'] = df['Day of Week'].astype(cat_type)"
   ]
  },
  {
   "cell_type": "code",
   "execution_count": 19,
   "id": "steady-jimmy",
   "metadata": {},
   "outputs": [
    {
     "data": {
      "text/plain": [
       "Day of Week\n",
       "Monday       0.280060\n",
       "Tuesday      0.195508\n",
       "Wednesday    0.156814\n",
       "Thursday     0.177213\n",
       "Friday       0.329098\n",
       "Saturday     0.307284\n",
       "Sunday       0.256140\n",
       "Name: Ride Status, dtype: float64"
      ]
     },
     "execution_count": 19,
     "metadata": {},
     "output_type": "execute_result"
    }
   ],
   "source": [
    "df[df['Ride Status']=='cancelled'].groupby('Day of Week')['Ride Status'].count()\\\n",
    "/df.groupby('Day of Week')['Ride Status'].count()"
   ]
  },
  {
   "cell_type": "markdown",
   "id": "anonymous-metadata",
   "metadata": {},
   "source": [
    "Highest cancellation rates occur on Friday and Saturday which are weekend in Egypt. A special approach can be applied such as cancellation fee in these two days to lower the cancellation."
   ]
  },
  {
   "cell_type": "markdown",
   "id": "chicken-newton",
   "metadata": {},
   "source": [
    "## For low utilized routes, what are your thoughts on how to improve their utilization?"
   ]
  },
  {
   "cell_type": "code",
   "execution_count": 20,
   "id": "enhanced-pepper",
   "metadata": {},
   "outputs": [],
   "source": [
    "df['Seat Utilization'] = df['Bookings']/df['Capacity']\n",
    "route_utilization_df = df.groupby('Route')['Seat Utilization'].mean().sort_values().reset_index()"
   ]
  },
  {
   "cell_type": "code",
   "execution_count": 21,
   "id": "collaborative-sustainability",
   "metadata": {},
   "outputs": [
    {
     "data": {
      "image/png": "[encoded data removed]",
      "text/plain": [
       "<Figure size 432x288 with 1 Axes>"
      ]
     },
     "metadata": {
      "needs_background": "light"
     },
     "output_type": "display_data"
    }
   ],
   "source": [
    "plt.title('Seat Utilization')\n",
    "plt.boxplot(route_utilization_df['Seat Utilization']);"
   ]
  },
  {
   "cell_type": "markdown",
   "id": "subjective-sender",
   "metadata": {},
   "source": [
    "The mean is around 0.4 which is 40% of the capacity. The threshold of low utilization can be assumed to be 0.1."
   ]
  },
  {
   "cell_type": "code",
   "execution_count": 22,
   "id": "efficient-progress",
   "metadata": {},
   "outputs": [],
   "source": [
    "routes_low_utilization = route_utilization_df[route_utilization_df['Seat Utilization'] < 0.1]['Route'].to_list()\n",
    "df_low_utilization = df[df['Route'].isin(routes_low_utilization)]"
   ]
  },
  {
   "cell_type": "code",
   "execution_count": 23,
   "id": "seeing-convert",
   "metadata": {
    "scrolled": true
   },
   "outputs": [
    {
     "data": {
      "text/html": [
       "<div>\n",
       "<style scoped>\n",
       "    .dataframe tbody tr th:only-of-type {\n",
       "        vertical-align: middle;\n",
       "    }\n",
       "\n",
       "    .dataframe tbody tr th {\n",
       "        vertical-align: top;\n",
       "    }\n",
       "\n",
       "    .dataframe thead th {\n",
       "        text-align: right;\n",
       "    }\n",
       "</style>\n",
       "<table border=\"1\" class=\"dataframe\">\n",
       "  <thead>\n",
       "    <tr style=\"text-align: right;\">\n",
       "      <th></th>\n",
       "      <th>Date</th>\n",
       "      <th>Time</th>\n",
       "      <th>City</th>\n",
       "      <th>CategoryID</th>\n",
       "      <th>Ride Status</th>\n",
       "      <th>Ride</th>\n",
       "      <th>BusTypeID</th>\n",
       "      <th>Route</th>\n",
       "      <th>Distance</th>\n",
       "      <th>Captain</th>\n",
       "      <th>Income</th>\n",
       "      <th>Paid to Captain</th>\n",
       "      <th>Bookings</th>\n",
       "      <th>Capacity</th>\n",
       "      <th>Rated Bookings</th>\n",
       "      <th>Summation of Ratings</th>\n",
       "      <th>Category</th>\n",
       "      <th>Average Rating</th>\n",
       "      <th>Day of Week</th>\n",
       "      <th>Seat Utilization</th>\n",
       "    </tr>\n",
       "  </thead>\n",
       "  <tbody>\n",
       "    <tr>\n",
       "      <th>338</th>\n",
       "      <td>2021-01-31</td>\n",
       "      <td>13:00:00</td>\n",
       "      <td>58d1560b2207c00001aabc9a</td>\n",
       "      <td>5f0b2962e8cce5001acf35b7</td>\n",
       "      <td>cancelled</td>\n",
       "      <td>600f891d0f6e2a001ae1e297</td>\n",
       "      <td>5952ece2cb93a600015aa7aa</td>\n",
       "      <td>600a08b71a75a4001dddf6cb</td>\n",
       "      <td>26.115</td>\n",
       "      <td>5da349b004ab4f001ae4cc5b</td>\n",
       "      <td>66</td>\n",
       "      <td>149</td>\n",
       "      <td>1</td>\n",
       "      <td>13</td>\n",
       "      <td>0</td>\n",
       "      <td>0</td>\n",
       "      <td>C</td>\n",
       "      <td>NaN</td>\n",
       "      <td>Sunday</td>\n",
       "      <td>0.076923</td>\n",
       "    </tr>\n",
       "    <tr>\n",
       "      <th>514</th>\n",
       "      <td>2021-02-04</td>\n",
       "      <td>16:30:00</td>\n",
       "      <td>5947b64eb17fa400018ed437</td>\n",
       "      <td>5f0b2962e8cce5001acf35b9</td>\n",
       "      <td>cancelled</td>\n",
       "      <td>60122cbb2a4d03001b985b61</td>\n",
       "      <td>590dbfef94df860001c8aab6</td>\n",
       "      <td>5ff8a6c6b1d41a001edb9381</td>\n",
       "      <td>247.344</td>\n",
       "      <td>5a0bf7a70eb9ed000fa7a618</td>\n",
       "      <td>81</td>\n",
       "      <td>38</td>\n",
       "      <td>1</td>\n",
       "      <td>22</td>\n",
       "      <td>1</td>\n",
       "      <td>5</td>\n",
       "      <td>A</td>\n",
       "      <td>5.0</td>\n",
       "      <td>Thursday</td>\n",
       "      <td>0.045455</td>\n",
       "    </tr>\n",
       "    <tr>\n",
       "      <th>524</th>\n",
       "      <td>2021-02-05</td>\n",
       "      <td>02:00:00</td>\n",
       "      <td>5947b64eb17fa400018ed437</td>\n",
       "      <td>5f0b2962e8cce5001acf35b9</td>\n",
       "      <td>cancelled</td>\n",
       "      <td>601c2fdad70e69001df7ba2e</td>\n",
       "      <td>5f26f92bd77fd0001a77f4cd</td>\n",
       "      <td>5ff750952829a5001d4a9414</td>\n",
       "      <td>247.344</td>\n",
       "      <td>5e1b388b5e46d0001a49d8af</td>\n",
       "      <td>194</td>\n",
       "      <td>165</td>\n",
       "      <td>1</td>\n",
       "      <td>11</td>\n",
       "      <td>1</td>\n",
       "      <td>4</td>\n",
       "      <td>A</td>\n",
       "      <td>4.0</td>\n",
       "      <td>Friday</td>\n",
       "      <td>0.090909</td>\n",
       "    </tr>\n",
       "    <tr>\n",
       "      <th>862</th>\n",
       "      <td>2021-02-03</td>\n",
       "      <td>13:30:00</td>\n",
       "      <td>58d1560b2207c00001aabc9a</td>\n",
       "      <td>5f0b2962e8cce5001acf35b9</td>\n",
       "      <td>cancelled</td>\n",
       "      <td>6010db4389d5fd001bab9c9b</td>\n",
       "      <td>5952ece2cb93a600015aa7aa</td>\n",
       "      <td>5ff8a6cfa4aef9001d31cb7b</td>\n",
       "      <td>247.050</td>\n",
       "      <td>5bb49938133e97001171224b</td>\n",
       "      <td>92</td>\n",
       "      <td>66</td>\n",
       "      <td>1</td>\n",
       "      <td>13</td>\n",
       "      <td>0</td>\n",
       "      <td>0</td>\n",
       "      <td>A</td>\n",
       "      <td>NaN</td>\n",
       "      <td>Wednesday</td>\n",
       "      <td>0.076923</td>\n",
       "    </tr>\n",
       "    <tr>\n",
       "      <th>1232</th>\n",
       "      <td>2021-02-01</td>\n",
       "      <td>15:30:00</td>\n",
       "      <td>58d1560b2207c00001aabc9a</td>\n",
       "      <td>5f0b2962e8cce5001acf35b7</td>\n",
       "      <td>cancelled</td>\n",
       "      <td>6010d9ba2a4d03001b963720</td>\n",
       "      <td>5952ece2cb93a600015aa7aa</td>\n",
       "      <td>5fdd0f33987f55001d063c8e</td>\n",
       "      <td>67.302</td>\n",
       "      <td>5da349b004ab4f001ae4cc5b</td>\n",
       "      <td>157</td>\n",
       "      <td>72</td>\n",
       "      <td>1</td>\n",
       "      <td>13</td>\n",
       "      <td>0</td>\n",
       "      <td>0</td>\n",
       "      <td>C</td>\n",
       "      <td>NaN</td>\n",
       "      <td>Monday</td>\n",
       "      <td>0.076923</td>\n",
       "    </tr>\n",
       "    <tr>\n",
       "      <th>...</th>\n",
       "      <td>...</td>\n",
       "      <td>...</td>\n",
       "      <td>...</td>\n",
       "      <td>...</td>\n",
       "      <td>...</td>\n",
       "      <td>...</td>\n",
       "      <td>...</td>\n",
       "      <td>...</td>\n",
       "      <td>...</td>\n",
       "      <td>...</td>\n",
       "      <td>...</td>\n",
       "      <td>...</td>\n",
       "      <td>...</td>\n",
       "      <td>...</td>\n",
       "      <td>...</td>\n",
       "      <td>...</td>\n",
       "      <td>...</td>\n",
       "      <td>...</td>\n",
       "      <td>...</td>\n",
       "      <td>...</td>\n",
       "    </tr>\n",
       "    <tr>\n",
       "      <th>29012</th>\n",
       "      <td>2021-01-31</td>\n",
       "      <td>10:10:00</td>\n",
       "      <td>5947b64eb17fa400018ed437</td>\n",
       "      <td>5f4698a2d2afb2000d931b92</td>\n",
       "      <td>cancelled</td>\n",
       "      <td>60122d3f62b685001b9e4e92</td>\n",
       "      <td>5f0f90e345bc80001ae4c419</td>\n",
       "      <td>5fff4a4b3f4dd5001db3502d</td>\n",
       "      <td>13.230</td>\n",
       "      <td>5f6b50555d804e001c804d3a</td>\n",
       "      <td>154</td>\n",
       "      <td>141</td>\n",
       "      <td>2</td>\n",
       "      <td>29</td>\n",
       "      <td>2</td>\n",
       "      <td>10</td>\n",
       "      <td>D</td>\n",
       "      <td>5.0</td>\n",
       "      <td>Sunday</td>\n",
       "      <td>0.068966</td>\n",
       "    </tr>\n",
       "    <tr>\n",
       "      <th>29125</th>\n",
       "      <td>2021-02-03</td>\n",
       "      <td>19:00:00</td>\n",
       "      <td>58d1560b2207c00001aabc9a</td>\n",
       "      <td>5f0b2962e8cce5001acf35b7</td>\n",
       "      <td>completed</td>\n",
       "      <td>601aaf878ff2bf001d9dcddf</td>\n",
       "      <td>5d151a38428e82001afc5d5f</td>\n",
       "      <td>601aaec48ddd6e001da721bc</td>\n",
       "      <td>287.667</td>\n",
       "      <td>5f414a3b6d2080001c5baf3c</td>\n",
       "      <td>245</td>\n",
       "      <td>82</td>\n",
       "      <td>0</td>\n",
       "      <td>4</td>\n",
       "      <td>0</td>\n",
       "      <td>0</td>\n",
       "      <td>C</td>\n",
       "      <td>NaN</td>\n",
       "      <td>Wednesday</td>\n",
       "      <td>0.000000</td>\n",
       "    </tr>\n",
       "    <tr>\n",
       "      <th>29304</th>\n",
       "      <td>2021-02-06</td>\n",
       "      <td>06:10:00</td>\n",
       "      <td>58d1560b2207c00001aabc9a</td>\n",
       "      <td>5f0b2962e8cce5001acf35b7</td>\n",
       "      <td>completed</td>\n",
       "      <td>601cb85ef71aa8001b613e4f</td>\n",
       "      <td>590dbfef94df860001c8aab6</td>\n",
       "      <td>5c407cd500e32400189eb93f</td>\n",
       "      <td>54.527</td>\n",
       "      <td>5e0a6468d480d3001acd116b</td>\n",
       "      <td>11</td>\n",
       "      <td>160</td>\n",
       "      <td>3</td>\n",
       "      <td>26</td>\n",
       "      <td>3</td>\n",
       "      <td>15</td>\n",
       "      <td>C</td>\n",
       "      <td>5.0</td>\n",
       "      <td>Saturday</td>\n",
       "      <td>0.115385</td>\n",
       "    </tr>\n",
       "    <tr>\n",
       "      <th>29513</th>\n",
       "      <td>2021-02-02</td>\n",
       "      <td>16:30:00</td>\n",
       "      <td>5947b64eb17fa400018ed437</td>\n",
       "      <td>5f0b2962e8cce5001acf35b9</td>\n",
       "      <td>cancelled</td>\n",
       "      <td>600f91270f6e2a001ae5aceb</td>\n",
       "      <td>590dbfef94df860001c8aab6</td>\n",
       "      <td>5ff8a6c6b1d41a001edb9381</td>\n",
       "      <td>247.344</td>\n",
       "      <td>5a0bf7a70eb9ed000fa7a618</td>\n",
       "      <td>41</td>\n",
       "      <td>84</td>\n",
       "      <td>2</td>\n",
       "      <td>22</td>\n",
       "      <td>2</td>\n",
       "      <td>8</td>\n",
       "      <td>A</td>\n",
       "      <td>4.0</td>\n",
       "      <td>Tuesday</td>\n",
       "      <td>0.090909</td>\n",
       "    </tr>\n",
       "    <tr>\n",
       "      <th>29924</th>\n",
       "      <td>2021-01-31</td>\n",
       "      <td>13:30:00</td>\n",
       "      <td>58d1560b2207c00001aabc9a</td>\n",
       "      <td>5f0b2962e8cce5001acf35b9</td>\n",
       "      <td>cancelled</td>\n",
       "      <td>600ce852d7b4aa001daab22e</td>\n",
       "      <td>5952ece2cb93a600015aa7aa</td>\n",
       "      <td>5ff8a6cfa4aef9001d31cb7b</td>\n",
       "      <td>247.050</td>\n",
       "      <td>5bb49938133e97001171224b</td>\n",
       "      <td>83</td>\n",
       "      <td>153</td>\n",
       "      <td>1</td>\n",
       "      <td>13</td>\n",
       "      <td>1</td>\n",
       "      <td>4</td>\n",
       "      <td>A</td>\n",
       "      <td>4.0</td>\n",
       "      <td>Sunday</td>\n",
       "      <td>0.076923</td>\n",
       "    </tr>\n",
       "  </tbody>\n",
       "</table>\n",
       "<p>224 rows × 20 columns</p>\n",
       "</div>"
      ],
      "text/plain": [
       "            Date      Time                      City  \\\n",
       "338   2021-01-31  13:00:00  58d1560b2207c00001aabc9a   \n",
       "514   2021-02-04  16:30:00  5947b64eb17fa400018ed437   \n",
       "524   2021-02-05  02:00:00  5947b64eb17fa400018ed437   \n",
       "862   2021-02-03  13:30:00  58d1560b2207c00001aabc9a   \n",
       "1232  2021-02-01  15:30:00  58d1560b2207c00001aabc9a   \n",
       "...          ...       ...                       ...   \n",
       "29012 2021-01-31  10:10:00  5947b64eb17fa400018ed437   \n",
       "29125 2021-02-03  19:00:00  58d1560b2207c00001aabc9a   \n",
       "29304 2021-02-06  06:10:00  58d1560b2207c00001aabc9a   \n",
       "29513 2021-02-02  16:30:00  5947b64eb17fa400018ed437   \n",
       "29924 2021-01-31  13:30:00  58d1560b2207c00001aabc9a   \n",
       "\n",
       "                     CategoryID Ride Status                      Ride  \\\n",
       "338    5f0b2962e8cce5001acf35b7   cancelled  600f891d0f6e2a001ae1e297   \n",
       "514    5f0b2962e8cce5001acf35b9   cancelled  60122cbb2a4d03001b985b61   \n",
       "524    5f0b2962e8cce5001acf35b9   cancelled  601c2fdad70e69001df7ba2e   \n",
       "862    5f0b2962e8cce5001acf35b9   cancelled  6010db4389d5fd001bab9c9b   \n",
       "1232   5f0b2962e8cce5001acf35b7   cancelled  6010d9ba2a4d03001b963720   \n",
       "...                         ...         ...                       ...   \n",
       "29012  5f4698a2d2afb2000d931b92   cancelled  60122d3f62b685001b9e4e92   \n",
       "29125  5f0b2962e8cce5001acf35b7   completed  601aaf878ff2bf001d9dcddf   \n",
       "29304  5f0b2962e8cce5001acf35b7   completed  601cb85ef71aa8001b613e4f   \n",
       "29513  5f0b2962e8cce5001acf35b9   cancelled  600f91270f6e2a001ae5aceb   \n",
       "29924  5f0b2962e8cce5001acf35b9   cancelled  600ce852d7b4aa001daab22e   \n",
       "\n",
       "                      BusTypeID                     Route  Distance  \\\n",
       "338    5952ece2cb93a600015aa7aa  600a08b71a75a4001dddf6cb    26.115   \n",
       "514    590dbfef94df860001c8aab6  5ff8a6c6b1d41a001edb9381   247.344   \n",
       "524    5f26f92bd77fd0001a77f4cd  5ff750952829a5001d4a9414   247.344   \n",
       "862    5952ece2cb93a600015aa7aa  5ff8a6cfa4aef9001d31cb7b   247.050   \n",
       "1232   5952ece2cb93a600015aa7aa  5fdd0f33987f55001d063c8e    67.302   \n",
       "...                         ...                       ...       ...   \n",
       "29012  5f0f90e345bc80001ae4c419  5fff4a4b3f4dd5001db3502d    13.230   \n",
       "29125  5d151a38428e82001afc5d5f  601aaec48ddd6e001da721bc   287.667   \n",
       "29304  590dbfef94df860001c8aab6  5c407cd500e32400189eb93f    54.527   \n",
       "29513  590dbfef94df860001c8aab6  5ff8a6c6b1d41a001edb9381   247.344   \n",
       "29924  5952ece2cb93a600015aa7aa  5ff8a6cfa4aef9001d31cb7b   247.050   \n",
       "\n",
       "                        Captain  Income  Paid to Captain  Bookings  Capacity  \\\n",
       "338    5da349b004ab4f001ae4cc5b      66              149         1        13   \n",
       "514    5a0bf7a70eb9ed000fa7a618      81               38         1        22   \n",
       "524    5e1b388b5e46d0001a49d8af     194              165         1        11   \n",
       "862    5bb49938133e97001171224b      92               66         1        13   \n",
       "1232   5da349b004ab4f001ae4cc5b     157               72         1        13   \n",
       "...                         ...     ...              ...       ...       ...   \n",
       "29012  5f6b50555d804e001c804d3a     154              141         2        29   \n",
       "29125  5f414a3b6d2080001c5baf3c     245               82         0         4   \n",
       "29304  5e0a6468d480d3001acd116b      11              160         3        26   \n",
       "29513  5a0bf7a70eb9ed000fa7a618      41               84         2        22   \n",
       "29924  5bb49938133e97001171224b      83              153         1        13   \n",
       "\n",
       "       Rated Bookings  Summation of Ratings Category  Average Rating  \\\n",
       "338                 0                     0        C             NaN   \n",
       "514                 1                     5        A             5.0   \n",
       "524                 1                     4        A             4.0   \n",
       "862                 0                     0        A             NaN   \n",
       "1232                0                     0        C             NaN   \n",
       "...               ...                   ...      ...             ...   \n",
       "29012               2                    10        D             5.0   \n",
       "29125               0                     0        C             NaN   \n",
       "29304               3                    15        C             5.0   \n",
       "29513               2                     8        A             4.0   \n",
       "29924               1                     4        A             4.0   \n",
       "\n",
       "      Day of Week  Seat Utilization  \n",
       "338        Sunday          0.076923  \n",
       "514      Thursday          0.045455  \n",
       "524        Friday          0.090909  \n",
       "862     Wednesday          0.076923  \n",
       "1232       Monday          0.076923  \n",
       "...           ...               ...  \n",
       "29012      Sunday          0.068966  \n",
       "29125   Wednesday          0.000000  \n",
       "29304    Saturday          0.115385  \n",
       "29513     Tuesday          0.090909  \n",
       "29924      Sunday          0.076923  \n",
       "\n",
       "[224 rows x 20 columns]"
      ]
     },
     "execution_count": 23,
     "metadata": {},
     "output_type": "execute_result"
    }
   ],
   "source": [
    "df_low_utilization"
   ]
  },
  {
   "cell_type": "code",
   "execution_count": 24,
   "id": "purple-tonight",
   "metadata": {},
   "outputs": [
    {
     "data": {
      "image/png": "[encoded data removed]",
      "text/plain": [
       "<Figure size 432x288 with 1 Axes>"
      ]
     },
     "metadata": {
      "needs_background": "light"
     },
     "output_type": "display_data"
    }
   ],
   "source": [
    "plt.boxplot(df_low_utilization['Capacity']);"
   ]
  },
  {
   "cell_type": "markdown",
   "id": "minus-actress",
   "metadata": {},
   "source": [
    "One of the solutions is to lower the Capaicty. For those routes with extreme low values of utilization, providing customers with smaller buses would not affect the service, but it would decrease the cost which increases the net profit."
   ]
  },
  {
   "cell_type": "markdown",
   "id": "canadian-aquarium",
   "metadata": {},
   "source": [
    "## For low performing captains, quantify the percentage of these captains overall. How would you take actions with these captains?"
   ]
  },
  {
   "cell_type": "code",
   "execution_count": 25,
   "id": "broad-return",
   "metadata": {},
   "outputs": [
    {
     "data": {
      "text/html": [
       "<div>\n",
       "<style scoped>\n",
       "    .dataframe tbody tr th:only-of-type {\n",
       "        vertical-align: middle;\n",
       "    }\n",
       "\n",
       "    .dataframe tbody tr th {\n",
       "        vertical-align: top;\n",
       "    }\n",
       "\n",
       "    .dataframe thead th {\n",
       "        text-align: right;\n",
       "    }\n",
       "</style>\n",
       "<table border=\"1\" class=\"dataframe\">\n",
       "  <thead>\n",
       "    <tr style=\"text-align: right;\">\n",
       "      <th></th>\n",
       "      <th>Captain</th>\n",
       "      <th>Completion Percentage</th>\n",
       "    </tr>\n",
       "  </thead>\n",
       "  <tbody>\n",
       "    <tr>\n",
       "      <th>0</th>\n",
       "      <td>58f4d3a64c39990001bca2be</td>\n",
       "      <td>1.000000</td>\n",
       "    </tr>\n",
       "    <tr>\n",
       "      <th>1</th>\n",
       "      <td>58fd2ae99df6660001541a83</td>\n",
       "      <td>0.666667</td>\n",
       "    </tr>\n",
       "    <tr>\n",
       "      <th>2</th>\n",
       "      <td>593929e7720c9b0001784ab5</td>\n",
       "      <td>0.800000</td>\n",
       "    </tr>\n",
       "    <tr>\n",
       "      <th>3</th>\n",
       "      <td>59502ea58c469600015d33f3</td>\n",
       "      <td>1.000000</td>\n",
       "    </tr>\n",
       "    <tr>\n",
       "      <th>4</th>\n",
       "      <td>5962a4c368380e000122d8bf</td>\n",
       "      <td>1.000000</td>\n",
       "    </tr>\n",
       "  </tbody>\n",
       "</table>\n",
       "</div>"
      ],
      "text/plain": [
       "                    Captain  Completion Percentage\n",
       "0  58f4d3a64c39990001bca2be               1.000000\n",
       "1  58fd2ae99df6660001541a83               0.666667\n",
       "2  593929e7720c9b0001784ab5               0.800000\n",
       "3  59502ea58c469600015d33f3               1.000000\n",
       "4  5962a4c368380e000122d8bf               1.000000"
      ]
     },
     "execution_count": 25,
     "metadata": {},
     "output_type": "execute_result"
    }
   ],
   "source": [
    "df['Ride Status 0/1'] = df['Ride Status'].replace(['cancelled', 'completed'], [0, 1])\n",
    "df_captain_completion = df.groupby('Captain')['Ride Status 0/1'].mean().reset_index()\\\n",
    "                          .rename(columns={'Ride Status 0/1':'Completion Percentage'})\n",
    "df_captain_completion.head()"
   ]
  },
  {
   "cell_type": "code",
   "execution_count": 26,
   "id": "departmental-technology",
   "metadata": {},
   "outputs": [
    {
     "data": {
      "image/png": "[encoded data removed]",
      "text/plain": [
       "<Figure size 432x288 with 1 Axes>"
      ]
     },
     "metadata": {
      "needs_background": "light"
     },
     "output_type": "display_data"
    }
   ],
   "source": [
    "plt.title('Captain Completion Percentage')\n",
    "plt.boxplot(df_captain_completion['Completion Percentage']);"
   ]
  },
  {
   "cell_type": "code",
   "execution_count": 27,
   "id": "ideal-idaho",
   "metadata": {
    "scrolled": true
   },
   "outputs": [],
   "source": [
    "low_completion_captain = df_captain_completion[df_captain_completion['Completion Percentage'] < 0.7]['Captain'].to_list()"
   ]
  },
  {
   "cell_type": "markdown",
   "id": "nonprofit-stress",
   "metadata": {},
   "source": [
    "Since I identified the captain with the lowest completion rate, I would recommend to make an investigation and know the reason behind the cancellation. Give a notice for understandable reasons, and dismissal for non-understandable reasons."
   ]
  },
  {
   "cell_type": "markdown",
   "id": "addressed-saturn",
   "metadata": {},
   "source": [
    "## What's the average rating per captain on a daily basis?"
   ]
  },
  {
   "cell_type": "code",
   "execution_count": 28,
   "id": "permanent-overall",
   "metadata": {},
   "outputs": [
    {
     "data": {
      "text/plain": [
       "Captain                   Date      \n",
       "58f4d3a64c39990001bca2be  2021-01-31    3.250000\n",
       "                          2021-02-01    4.000000\n",
       "                          2021-02-02    3.000000\n",
       "                          2021-02-03    2.500000\n",
       "                          2021-02-04    3.000000\n",
       "                                          ...   \n",
       "601a60b65cf885001d6bb47d  2021-02-04    2.000000\n",
       "601a693282f675001e072caf  2021-02-04    5.000000\n",
       "601a6d1b82f675001e072e68  2021-02-04    1.000000\n",
       "601a76cbdac207001d32e585  2021-02-04    2.666667\n",
       "601a7a527ce2dd001eae7219  2021-02-04    4.000000\n",
       "Name: Average Rating, Length: 9267, dtype: float64"
      ]
     },
     "execution_count": 28,
     "metadata": {},
     "output_type": "execute_result"
    }
   ],
   "source": [
    "df.groupby(['Captain', 'Date'])['Average Rating'].mean()"
   ]
  }
 ],
 "metadata": {
  "kernelspec": {
   "display_name": "Python 3",
   "language": "python",
   "name": "python3"
  },
  "language_info": {
   "codemirror_mode": {
    "name": "ipython",
    "version": 3
   },
   "file_extension": ".py",
   "mimetype": "text/x-python",
   "name": "python",
   "nbconvert_exporter": "python",
   "pygments_lexer": "ipython3",
   "version": "3.9.2"
  },
  "toc": {
   "base_numbering": 1,
   "nav_menu": {},
   "number_sections": false,
   "sideBar": true,
   "skip_h1_title": false,
   "title_cell": "Table of Contents",
   "title_sidebar": "Contents",
   "toc_cell": false,
   "toc_position": {
    "height": "644.545px",
    "left": "25px",
    "top": "180px",
    "width": "305.455px"
   },
   "toc_section_display": true,
   "toc_window_display": true
  }
 },
 "nbformat": 4,
 "nbformat_minor": 5
}
